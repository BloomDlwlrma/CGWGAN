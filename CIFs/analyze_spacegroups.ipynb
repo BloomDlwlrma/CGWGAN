{
 "cells": [
  {
   "cell_type": "code",
   "execution_count": 1,
   "id": "eba59db8-7d01-42b0-82ed-4e475ae12bd7",
   "metadata": {},
   "outputs": [
    {
     "name": "stdout",
     "output_type": "stream",
     "text": [
      "File: sg25.cif, Spacegroup: Pmm2, Number: 25\n",
      "File: sg35.cif, Spacegroup: Cmm2, Number: 35\n",
      "File: sg71.cif, Spacegroup: Immm, Number: 71\n",
      "File: sp1.cif, Spacegroup: P1, Number: 1\n",
      "File: sp123.cif, Spacegroup: P4/mmm, Number: 123\n",
      "File: sp166.cif, Spacegroup: R-3m, Number: 166\n",
      "File: sp99.cif, Spacegroup: P4mm, Number: 99\n"
     ]
    }
   ],
   "source": [
    "import os\n",
    "from pymatgen.core import Structure\n",
    "from pymatgen.symmetry.analyzer import SpacegroupAnalyzer\n",
    "\n",
    "def analyze_spacegroups(directory, symprec=1e-5):\n",
    "    \"\"\"\n",
    "    Reads all CIF files in the given directory, calculates the space group \n",
    "    for each file using high precision, and prints the space group name, \n",
    "    space group number, and file name.\n",
    "\n",
    "    :param directory: Path to the directory containing CIF files\n",
    "    :param symprec: Precision for symmetry analysis (default is 1e-5)\n",
    "    \"\"\"\n",
    "    for filename in os.listdir(directory):\n",
    "        if filename.endswith(\".cif\"):\n",
    "            filepath = os.path.join(directory, filename)\n",
    "            try:\n",
    "                # Read the CIF file and create a Structure object\n",
    "                structure = Structure.from_file(filepath)\n",
    "                \n",
    "                # Use SpacegroupAnalyzer to calculate the space group (high precision)\n",
    "                analyzer = SpacegroupAnalyzer(structure, symprec=symprec)\n",
    "                spacegroup_symbol = analyzer.get_space_group_symbol()\n",
    "                spacegroup_number = analyzer.get_space_group_number()\n",
    "                \n",
    "                # Print the file name, space group name, and space group number\n",
    "                print(f\"File: {filename}, Spacegroup: {spacegroup_symbol}, Number: {spacegroup_number}\")\n",
    "            except Exception as e:\n",
    "                print(f\"Error processing {filename}: {e}\")\n",
    "\n",
    "# Use the function\n",
    "directory_path = \"./\"  # Replace with the directory where your CIF files are stored\n",
    "analyze_spacegroups(directory_path, symprec=1e-4)\n"
   ]
  },
  {
   "cell_type": "code",
   "execution_count": null,
   "id": "c9d6d128-6209-4420-afad-d3483f02efcf",
   "metadata": {},
   "outputs": [],
   "source": []
  }
 ],
 "metadata": {
  "kernelspec": {
   "display_name": "Python 3 (ipykernel)",
   "language": "python",
   "name": "python3"
  },
  "language_info": {
   "codemirror_mode": {
    "name": "ipython",
    "version": 3
   },
   "file_extension": ".py",
   "mimetype": "text/x-python",
   "name": "python",
   "nbconvert_exporter": "python",
   "pygments_lexer": "ipython3",
   "version": "3.11.7"
  }
 },
 "nbformat": 4,
 "nbformat_minor": 5
}
